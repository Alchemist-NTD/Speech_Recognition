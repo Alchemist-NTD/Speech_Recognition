{
  "cells": [
    {
      "cell_type": "code",
      "execution_count": null,
      "metadata": {
        "id": "Zaxpdskgpe34"
      },
      "outputs": [],
      "source": [
        "import librosa\n",
        "import librosa.display\n",
        "import IPython.display as ipd\n",
        "import matplotlib.pyplot as plt\n",
        "import numpy as np\n",
        "import math\n",
        "from sklearn import metrics\n",
        "from sklearn.model_selection import train_test_split\n",
        "import random\n",
        "from google.colab import drive\n",
        "from sklearn.preprocessing import normalize\n",
        "from sklearn.preprocessing import StandardScaler\n",
        "from sklearn.cluster import KMeans"
      ]
    },
    {
      "cell_type": "code",
      "execution_count": null,
      "metadata": {
        "colab": {
          "base_uri": "https://localhost:8080/"
        },
        "id": "0a-fLi5vvUkG",
        "outputId": "08302a29-5f11-45ab-f21e-04d005a25b24"
      },
      "outputs": [
        {
          "name": "stdout",
          "output_type": "stream",
          "text": [
            "Collecting hmmlearn\n",
            "  Downloading hmmlearn-0.2.7-cp37-cp37m-manylinux_2_12_x86_64.manylinux2010_x86_64.whl (129 kB)\n",
            "\u001b[?25l\r\u001b[K     |██▌                             | 10 kB 14.4 MB/s eta 0:00:01\r\u001b[K     |█████                           | 20 kB 19.7 MB/s eta 0:00:01\r\u001b[K     |███████▋                        | 30 kB 20.5 MB/s eta 0:00:01\r\u001b[K     |██████████                      | 40 kB 8.0 MB/s eta 0:00:01\r\u001b[K     |████████████▋                   | 51 kB 6.2 MB/s eta 0:00:01\r\u001b[K     |███████████████▏                | 61 kB 7.3 MB/s eta 0:00:01\r\u001b[K     |█████████████████▊              | 71 kB 8.0 MB/s eta 0:00:01\r\u001b[K     |████████████████████▏           | 81 kB 6.9 MB/s eta 0:00:01\r\u001b[K     |██████████████████████▊         | 92 kB 7.6 MB/s eta 0:00:01\r\u001b[K     |█████████████████████████▎      | 102 kB 8.3 MB/s eta 0:00:01\r\u001b[K     |███████████████████████████▊    | 112 kB 8.3 MB/s eta 0:00:01\r\u001b[K     |██████████████████████████████▎ | 122 kB 8.3 MB/s eta 0:00:01\r\u001b[K     |████████████████████████████████| 129 kB 8.3 MB/s \n",
            "\u001b[?25hRequirement already satisfied: scipy>=0.19 in /usr/local/lib/python3.7/dist-packages (from hmmlearn) (1.4.1)\n",
            "Requirement already satisfied: numpy>=1.10 in /usr/local/lib/python3.7/dist-packages (from hmmlearn) (1.21.6)\n",
            "Requirement already satisfied: scikit-learn>=0.16 in /usr/local/lib/python3.7/dist-packages (from hmmlearn) (1.0.2)\n",
            "Requirement already satisfied: threadpoolctl>=2.0.0 in /usr/local/lib/python3.7/dist-packages (from scikit-learn>=0.16->hmmlearn) (3.1.0)\n",
            "Requirement already satisfied: joblib>=0.11 in /usr/local/lib/python3.7/dist-packages (from scikit-learn>=0.16->hmmlearn) (1.1.0)\n",
            "Installing collected packages: hmmlearn\n",
            "Successfully installed hmmlearn-0.2.7\n"
          ]
        }
      ],
      "source": [
        "!pip install hmmlearn"
      ]
    },
    {
      "cell_type": "code",
      "execution_count": null,
      "metadata": {
        "colab": {
          "base_uri": "https://localhost:8080/"
        },
        "id": "krGA2_HcScWv",
        "outputId": "87abdecb-ec51-4047-e530-a0782665e57c"
      },
      "outputs": [
        {
          "name": "stdout",
          "output_type": "stream",
          "text": [
            "Collecting dtw\n",
            "  Downloading dtw-1.4.0.tar.gz (4.7 kB)\n",
            "Requirement already satisfied: numpy in /usr/local/lib/python3.7/dist-packages (from dtw) (1.21.6)\n",
            "Requirement already satisfied: scipy in /usr/local/lib/python3.7/dist-packages (from dtw) (1.4.1)\n",
            "Building wheels for collected packages: dtw\n",
            "  Building wheel for dtw (setup.py) ... \u001b[?25l\u001b[?25hdone\n",
            "  Created wheel for dtw: filename=dtw-1.4.0-py3-none-any.whl size=5315 sha256=c9d08d39cca5b1841d3a51ebcd5340a3dd1db24bdf1ddf164611170a0e6ba8e1\n",
            "  Stored in directory: /root/.cache/pip/wheels/f9/51/54/b7f446e6d4f5be9a66066b59c5030731191260515737be4496\n",
            "Successfully built dtw\n",
            "Installing collected packages: dtw\n",
            "Successfully installed dtw-1.4.0\n"
          ]
        }
      ],
      "source": [
        "!pip install dtw"
      ]
    },
    {
      "cell_type": "code",
      "execution_count": null,
      "metadata": {
        "id": "9fcSOp2JSiSX"
      },
      "outputs": [],
      "source": [
        "from dtw import dtw\n",
        "import hmmlearn.hmm"
      ]
    },
    {
      "cell_type": "code",
      "execution_count": null,
      "metadata": {
        "colab": {
          "base_uri": "https://localhost:8080/"
        },
        "id": "wh70DPPEpnPp",
        "outputId": "bbd8945e-67a5-44b8-afdb-0ade890e10f8"
      },
      "outputs": [
        {
          "name": "stdout",
          "output_type": "stream",
          "text": [
            "Mounted at /content/drive\n"
          ]
        }
      ],
      "source": [
        "drive.mount('/content/drive')"
      ]
    },
    {
      "cell_type": "markdown",
      "metadata": {
        "id": "FgOkysm5Y11s"
      },
      "source": [
        "# **1. Trích xuất các đặc trưng MFCCs**"
      ]
    },
    {
      "cell_type": "code",
      "execution_count": null,
      "metadata": {
        "id": "NRAnVClHU8Ur"
      },
      "outputs": [],
      "source": [
        "# Segment and label list of list\n",
        "# element: [ Signal, label]\n",
        "seg_lab = []"
      ]
    },
    {
      "cell_type": "markdown",
      "metadata": {
        "id": "85o-fbm0p-G4"
      },
      "source": [
        "**Time to frame fomular**\n",
        "\n",
        "$\\begin{align} start_{frame} = \\big\\lfloor start_{time} \\times samplingrate \\big\\rfloor \\end{align}$\n",
        "\n",
        "$\\begin{align} end_{frame} = \\big\\lfloor end_{time} \\times samplingrate \\big\\rfloor + 1 \\end{align}$"
      ]
    },
    {
      "cell_type": "code",
      "execution_count": null,
      "metadata": {
        "id": "6vQupS8EgP1r"
      },
      "outputs": [],
      "source": [
        "def mfcc_lab(path_without_ending, target_list):\n",
        "    signal, sr = librosa.load(path_without_ending + '.wav')\n",
        "    with open(path_without_ending + '.txt') as f:\n",
        "            for line in f:\n",
        "                if(line == ''): continue\n",
        "                gr = ''.join(line).strip().split('\\t')\n",
        "                if len(gr) < 3: continue\n",
        "                if gr[2] == 'sil': continue\n",
        "                start_frame = int(float(gr[0]) * sr)\n",
        "                end_frame = int(float(gr[1]) * sr) + 1\n",
        "                lab = gr[2]\n",
        "                # trích chọn đặc trưng trên thang mel với các thông số mặc định sampling rate = 22050, window hann, frame_size = 2048, hop_size = 512 (SFT matrix n_frame x window_length)\n",
        "                # Dựa vào biến đổi Fast Fourier Transform trên từng frame\n",
        "                mel_ftr = librosa.feature.melspectrogram(y=signal[start_frame:end_frame], sr=sr, window='hann')\n",
        "                # trích chọn 13 đặc trưng MFCC từ Discrete Cosine Transform với các bộ lọc tam giác nối chân nhau từ spg: ma trận sau khi short time fourier transform trên segment.\n",
        "                # đặc trưng thứ 13 là trung bình năng lượng của 12 đặc trưng\n",
        "                mfccs = librosa.feature.mfcc(S = mel_ftr, n_mfcc=13, sr=sr)\n",
        "                # trích chọn 13 đặc trưng tiếp theo chính là đạo hàm của 12 đặc trưng mfccs cộng thêm 1 đặc trưng là trung bình năng lượng của 12 đặc trưng đó\n",
        "                delta_mfccs = librosa.feature.delta(mfccs)\n",
        "                # tương tự nhưng là đạo hàm của 12 delta_mfccs và 1 trung bình năng lượng của tầng này\n",
        "                delta2_mfccs = librosa.feature.delta(mfccs, order=2)\n",
        "                mfccs_36 = np.concatenate((mfccs, delta_mfccs, delta2_mfccs))\n",
        "                target_list.append([mfccs_36, lab])\n",
        "    # print(path_without_ending)"
      ]
    },
    {
      "cell_type": "code",
      "execution_count": null,
      "metadata": {
        "id": "ici9aWiCUjOc"
      },
      "outputs": [],
      "source": [
        "# read data without Silence label\n",
        "def read_data_from_drive(data_fill):\n",
        "    path99 = '/content/drive/My Drive/Ex1-2022/99/17021221_NguyenThanhDuy/'\n",
        "    path14 = '/content/drive/My Drive/Ex1-2022/14/19021229_DangTrungCuong/'\n",
        "    path7 = '/content/drive/My Drive/Ex1-2022/07/19021388_Kiều Văn Tuyên/'\n",
        "    for i in range(1, 101):\n",
        "        mfcc_lab(path99 + 'c' + str(i), data_fill)\n",
        "        mfcc_lab(path14 + 'c' + str(i), data_fill)\n",
        "        mfcc_lab(path7 + str(i), data_fill)"
      ]
    },
    {
      "cell_type": "code",
      "execution_count": null,
      "metadata": {
        "id": "BVkXxgCqmZEV"
      },
      "outputs": [],
      "source": [
        "read_data_from_drive(seg_lab)"
      ]
    },
    {
      "cell_type": "code",
      "execution_count": null,
      "metadata": {
        "colab": {
          "base_uri": "https://localhost:8080/"
        },
        "id": "fYk2QlbUn286",
        "outputId": "db5865c9-c0e3-4f60-ea03-338842e118db"
      },
      "outputs": [
        {
          "data": {
            "text/plain": [
              "3020"
            ]
          },
          "execution_count": 12,
          "metadata": {},
          "output_type": "execute_result"
        }
      ],
      "source": [
        "len(seg_lab)"
      ]
    },
    {
      "cell_type": "code",
      "execution_count": null,
      "metadata": {
        "colab": {
          "base_uri": "https://localhost:8080/",
          "height": 334
        },
        "id": "yx3V191nwGAn",
        "outputId": "444606f7-651e-4f18-e849-0abdfac7e189"
      },
      "outputs": [
        {
          "data": {
            "image/png": "[encoded data removed]",
            "text/plain": [
              "<Figure size 720x360 with 2 Axes>"
            ]
          },
          "metadata": {},
          "output_type": "display_data"
        }
      ],
      "source": [
        "plt.figure(figsize=(10, 5))\n",
        "librosa.display.specshow(seg_lab[21][0][:], \n",
        "                         x_axis=\"time\", \n",
        "                         sr=22050)\n",
        "plt.colorbar(format=\"%+2.f\")\n",
        "plt.show()"
      ]
    },
    {
      "cell_type": "markdown",
      "metadata": {
        "id": "wVcGZHetYx0Z"
      },
      "source": [
        "# **2. Phân loại từ đơn bằng Dynamic Time Wrapping**"
      ]
    },
    {
      "cell_type": "code",
      "execution_count": null,
      "metadata": {
        "id": "gRTMBKXNavbz"
      },
      "outputs": [],
      "source": [
        "def prepare_datasets(dataset, N): \n",
        "    random.shuffle(dataset)\n",
        "\n",
        "    x,y = [np.reshape(tst[x][0].T[:10].T , (-1)) for x in range(len(dataset))], [dataset[x][1] for x in range(len(dataset))]\n",
        "\n",
        "    train_x = x[0:N]\n",
        "    train_y = y[0:N]\n",
        "    test_x =  x[N:len(dataset)]\n",
        "    test_y =  y[N:len(dataset)]\n",
        "\n",
        "    # Normalize / Standardize features\n",
        "    scaler = StandardScaler()\n",
        "    scaler.fit(train_x)\n",
        "    train_x = [s.reshape(-1,39) for s in np.array(scaler.transform(train_x))]  \n",
        "    test_x = [s.reshape(-1,39) for s in np.array(scaler.transform(test_x))]\n",
        "        \n",
        "    return train_x, train_y, test_x, test_y"
      ]
    },
    {
      "cell_type": "code",
      "execution_count": null,
      "metadata": {
        "id": "lXYoMi2qbc8G"
      },
      "outputs": [],
      "source": [
        "def alignment_validation(train_x, train_y, test_x, test_y): \n",
        "    predict = ['' for x in range(len(test_y))]\n",
        "\n",
        "    for test_iter, test in enumerate(test_x):\n",
        "        dist_min = math.inf\n",
        "        for train_iter, train in enumerate(train_x):\n",
        "            # Align bằng dtw với mục tiêu là chuẩn 2 norm (khoảng cách giữa 2 mẫu)\n",
        "            dist, _, _, _ = dtw(test, train, dist=lambda test, train: np.linalg.norm(test - train, ord=1))\n",
        "            if dist_min > dist: \n",
        "                dist_min = dist\n",
        "                predict[test_iter] = train_y[train_iter]\n",
        "    return predict"
      ]
    },
    {
      "cell_type": "code",
      "execution_count": null,
      "metadata": {
        "id": "cRCLLrt9bGuc"
      },
      "outputs": [],
      "source": [
        "tst = seg_lab.copy()"
      ]
    },
    {
      "cell_type": "code",
      "execution_count": null,
      "metadata": {
        "id": "iUo21Uk6bTUS"
      },
      "outputs": [],
      "source": [
        "train_x, train_y, test_x, test_y = prepare_datasets(tst, 2100)\n",
        "# 1 / 3 bộ dữ liệu sẽ dùng cho train\n",
        "predicted = alignment_validation(train_x, train_y, test_x, test_y) \n",
        "expected = test_y"
      ]
    },
    {
      "cell_type": "code",
      "execution_count": null,
      "metadata": {
        "colab": {
          "base_uri": "https://localhost:8080/"
        },
        "id": "o5kec4c0tVPT",
        "outputId": "ae910f3c-3d59-43e6-8e60-05db8ec2075b"
      },
      "outputs": [
        {
          "data": {
            "text/plain": [
              "[613]"
            ]
          },
          "execution_count": 98,
          "metadata": {},
          "output_type": "execute_result"
        }
      ],
      "source": [
        "# Có data nào đó bị lỗi nhãn 'B' thành nhãn ' B'\n",
        "[x for x in range(len(expected)) if expected[x] == ' B']"
      ]
    },
    {
      "cell_type": "code",
      "execution_count": null,
      "metadata": {
        "colab": {
          "base_uri": "https://localhost:8080/",
          "height": 35
        },
        "id": "I6VqW7rZsPZ4",
        "outputId": "4413d4a5-2998-46c1-c322-c1020bd9bea6"
      },
      "outputs": [
        {
          "data": {
            "application/vnd.google.colaboratory.intrinsic+json": {
              "type": "string"
            },
            "text/plain": [
              "'B'"
            ]
          },
          "execution_count": 99,
          "metadata": {},
          "output_type": "execute_result"
        }
      ],
      "source": [
        "# sửa lại output\n",
        "expected[613] = 'B'\n",
        "expected[613]"
      ]
    },
    {
      "cell_type": "code",
      "execution_count": null,
      "metadata": {
        "colab": {
          "base_uri": "https://localhost:8080/",
          "height": 644
        },
        "id": "PA-0mHv9iURx",
        "outputId": "1dfda77e-d4fd-4130-beef-4de47114e872"
      },
      "outputs": [
        {
          "name": "stdout",
          "output_type": "stream",
          "text": [
            "Classification report: \n",
            "\n",
            "              precision    recall  f1-score   support\n",
            "\n",
            "           A       0.85      0.89      0.87       114\n",
            "           B       0.78      0.83      0.80       111\n",
            "         ban       0.88      0.80      0.84       107\n",
            "         len       0.79      0.72      0.75       114\n",
            "        nhay       0.91      0.87      0.89       123\n",
            "        phai       0.73      0.81      0.77       101\n",
            "        trai       0.82      0.83      0.83       114\n",
            "       xuong       0.93      0.93      0.93       116\n",
            "\n",
            "    accuracy                           0.84       900\n",
            "   macro avg       0.84      0.84      0.84       900\n",
            "weighted avg       0.84      0.84      0.84       900\n",
            "\n",
            "\n",
            "Accuracy classification score: 83.67%\n",
            "Precision classification score: 83.88%\n"
          ]
        },
        {
          "data": {
            "image/png": "[encoded data removed]",
            "text/plain": [
              "<Figure size 432x288 with 2 Axes>"
            ]
          },
          "metadata": {},
          "output_type": "display_data"
        }
      ],
      "source": [
        "print(\"Classification report: \\n\\n%s\\n\" % (metrics.classification_report(expected, predicted)))\n",
        "mat = metrics.confusion_matrix(expected, predicted)\n",
        "# len, xuong, trai, phai, A, B, ban\n",
        "label_names = list(set(expected))\n",
        "label_names = [x for x in label_names if x != ' B']\n",
        "plt.figure()\n",
        "plt.imshow(mat, interpolation='nearest', cmap='Reds')\n",
        "plt.title('normalized confussion matrix')\n",
        "plt.colorbar()\n",
        "plt.ylabel('Expected label')\n",
        "plt.xlabel('Predicted label')\n",
        "tick_marks = np.arange(len(label_names))\n",
        "plt.xticks(tick_marks, label_names, rotation=90)\n",
        "plt.yticks(tick_marks, label_names)\n",
        "plt.tight_layout()\n",
        "\n",
        "# accuracy của từng từ đơn\n",
        "accuracy = metrics.accuracy_score(expected, predicted)\n",
        "print('Accuracy classification score: {0:.2f}%'.format(100*accuracy))\n",
        "precision = metrics.precision_score(expected, predicted, average='weighted')\n",
        "print('Precision classification score: {0:.2f}%'.format(100*precision))"
      ]
    },
    {
      "cell_type": "markdown",
      "metadata": {
        "id": "rCo-XXBgi-Me"
      },
      "source": [
        "# **3. Phân loại từ đơn bằng HMM (Hidden Markov Model)**"
      ]
    },
    {
      "cell_type": "code",
      "execution_count": null,
      "metadata": {
        "id": "zyCfs_6wjttQ"
      },
      "outputs": [],
      "source": [
        "# Phân cụm\n",
        "def clustering(X, n_clusters=20):\n",
        "    kmeans = KMeans(n_clusters=n_clusters, n_init=100, random_state=42, verbose=0)\n",
        "    kmeans.fit(X)\n",
        "    print(\"centers\", kmeans.cluster_centers_.shape)\n",
        "    return kmeans"
      ]
    },
    {
      "cell_type": "code",
      "execution_count": null,
      "metadata": {
        "colab": {
          "base_uri": "https://localhost:8080/"
        },
        "id": "9JgOiuIUWJ9r",
        "outputId": "3d7a3aa0-4b06-4f1a-d7b6-723b21e237f8"
      },
      "outputs": [
        {
          "data": {
            "text/plain": [
              "[2793]"
            ]
          },
          "execution_count": 15,
          "metadata": {},
          "output_type": "execute_result"
        }
      ],
      "source": [
        "# correct the data label\n",
        "[x for x in range(len(seg_lab)) if seg_lab[x][1] == ' B']"
      ]
    },
    {
      "cell_type": "code",
      "execution_count": null,
      "metadata": {
        "id": "c8XSdJu4W2lc"
      },
      "outputs": [],
      "source": [
        "seg_lab[2793][1] = 'B'"
      ]
    },
    {
      "cell_type": "code",
      "execution_count": 67,
      "metadata": {
        "id": "Sm8dEyCJXYZu"
      },
      "outputs": [],
      "source": [
        "hmm_ds = seg_lab.copy()"
      ]
    },
    {
      "cell_type": "code",
      "execution_count": 70,
      "metadata": {
        "id": "y4CjuIaKVlTc"
      },
      "outputs": [],
      "source": [
        "class_names = ['len', 'xuong', 'trai', 'phai', 'A', 'B', 'ban']\n",
        "data = {}\n",
        "dataset = {}\n",
        "for name in class_names:\n",
        "    data[name] = [hmm_ds[x][0].T[:10].T for x in range(len(hmm_ds)) if hmm_ds[x][1] == name]\n",
        "    data[f\"test_{name}\"] = data[name][-100:]\n",
        "    data[name] = data[name][:-100]"
      ]
    },
    {
      "cell_type": "code",
      "source": [
        "len(data['len'])"
      ],
      "metadata": {
        "colab": {
          "base_uri": "https://localhost:8080/"
        },
        "id": "IgcWYK8Eegl8",
        "outputId": "0bab9787-d70d-424a-d154-7a8ef6ff2969"
      },
      "execution_count": 74,
      "outputs": [
        {
          "output_type": "execute_result",
          "data": {
            "text/plain": [
              "283"
            ]
          },
          "metadata": {},
          "execution_count": 74
        }
      ]
    },
    {
      "cell_type": "code",
      "execution_count": 90,
      "metadata": {
        "id": "RyL3yFhfZ-Qj"
      },
      "outputs": [],
      "source": [
        "# Gộp cụm\n",
        "vt_ps = np.concatenate([np.concatenate(v, axis=1) for k, v in data.items() if k[:4]!='test'], axis=1).T"
      ]
    },
    {
      "cell_type": "code",
      "execution_count": 91,
      "metadata": {
        "colab": {
          "base_uri": "https://localhost:8080/"
        },
        "id": "91j3QJq0aARr",
        "outputId": "25d929a9-c237-44be-c7d5-5706c44796d9"
      },
      "outputs": [
        {
          "output_type": "execute_result",
          "data": {
            "text/plain": [
              "(19060, 39)"
            ]
          },
          "metadata": {},
          "execution_count": 91
        }
      ],
      "source": [
        "vt_ps.shape"
      ]
    },
    {
      "cell_type": "code",
      "execution_count": 92,
      "metadata": {
        "colab": {
          "base_uri": "https://localhost:8080/"
        },
        "id": "kpBX4VVuXlkd",
        "outputId": "2ed3bdea-b10c-4f61-ceaa-8bdfbe2e4eb0"
      },
      "outputs": [
        {
          "output_type": "stream",
          "name": "stdout",
          "text": [
            "centers (20, 39)\n"
          ]
        },
        {
          "output_type": "execute_result",
          "data": {
            "text/plain": [
              "((19060, 39), (20, 39))"
            ]
          },
          "metadata": {},
          "execution_count": 92
        }
      ],
      "source": [
        "# Tách cụm\n",
        "kmeans = clustering(vt_ps)\n",
        "vt_ps.shape, kmeans.cluster_centers_.shape"
      ]
    },
    {
      "cell_type": "code",
      "source": [
        "components = {\n",
        "    # len |l| ~ |e| ~ |n|\n",
        "    \"len\": 9,\n",
        "    # xuong |x|~|uo|~|ng|\n",
        "    \"xuong\": 9,\n",
        "    # phai |ph|~|a|~|i|\n",
        "    \"phai\": 9,\n",
        "    # trai |tr|~|a|~|i|\n",
        "    \"trai\": 9,\n",
        "    # A |a| ~\n",
        "    \"A\": 3,\n",
        "    # B |b|~\n",
        "    \"B\": 3,\n",
        "    # ban |b| ~ |a| ~ |n| \n",
        "    \"ban\": 9,\n",
        "}"
      ],
      "metadata": {
        "id": "0E2c9HYdgNU3"
      },
      "execution_count": 93,
      "outputs": []
    },
    {
      "cell_type": "code",
      "source": [
        "data[name][0].T.shape"
      ],
      "metadata": {
        "colab": {
          "base_uri": "https://localhost:8080/"
        },
        "id": "tPfJTfwxoGd2",
        "outputId": "60345e21-9f0d-4b40-941c-f9314c4c92fe"
      },
      "execution_count": 123,
      "outputs": [
        {
          "output_type": "execute_result",
          "data": {
            "text/plain": [
              "(10, 39)"
            ]
          },
          "metadata": {},
          "execution_count": 123
        }
      ]
    },
    {
      "cell_type": "code",
      "source": [
        "np.concatenate(data[name], axis = 1).T.shape"
      ],
      "metadata": {
        "colab": {
          "base_uri": "https://localhost:8080/"
        },
        "id": "Db0EttTto3OM",
        "outputId": "ff6d0cc0-fdf2-4783-d498-cd6abe19daf7"
      },
      "execution_count": 126,
      "outputs": [
        {
          "output_type": "execute_result",
          "data": {
            "text/plain": [
              "(2830, 39)"
            ]
          },
          "metadata": {},
          "execution_count": 126
        }
      ]
    },
    {
      "cell_type": "code",
      "source": [
        "# HMM with gaussian mixture\n",
        "models = {}\n",
        "for name in class_names:\n",
        "    class_vectors = data[name]\n",
        "    km = kmeans\n",
        "    dataset[name] = list([km.predict(v.T).reshape((-1,1)) for v in data[name]])\n",
        "    dataset[f\"test_{name}\"] = list([km.predict(v.T).reshape((-1,1)) for v in data[f\"test_{name}\"]])\n",
        "\n",
        "    if name[:4] != 'test':\n",
        "        n = components[name]\n",
        "        startprob = np.zeros(n)\n",
        "        startprob[0] = 1.0\n",
        "        transmat=np.diag(np.full(n,1))\n",
        "        \n",
        "        # Gaussian mixture\n",
        "        hmm = hmmlearn.hmm.GMMHMM(\n",
        "            n_components=n, \n",
        "            n_mix = 10, random_state=42, n_iter=100, verbose=True,\n",
        "            params='st', init_params='st',\n",
        "            startprob_prior=startprob,\n",
        "            transmat_prior=transmat,\n",
        "        )\n",
        "    \n",
        "        X = np.concatenate(data[name], axis=1).T\n",
        "        # lengths = list([len(x) for x in data[name]])\n",
        "        hmm.fit(X)\n",
        "        models[name] = hmm"
      ],
      "metadata": {
        "colab": {
          "base_uri": "https://localhost:8080/"
        },
        "id": "1muEBq0yhV5g",
        "outputId": "e10d5158-6afa-43cd-9c99-121043e441e7"
      },
      "execution_count": 160,
      "outputs": [
        {
          "output_type": "stream",
          "name": "stderr",
          "text": [
            "         1     -245290.4012             +nan\n",
            "         2     -241992.5296       +3297.8715\n",
            "         3     -241833.0921        +159.4375\n",
            "         4     -241793.3472         +39.7449\n",
            "         5     -241784.0761          +9.2711\n",
            "         6     -241783.0715          +1.0046\n",
            "         7     -241792.6480          -9.5765\n",
            "         1     -213891.4496             +nan\n",
            "         2     -209537.5872       +4353.8624\n",
            "         3     -209494.2177         +43.3695\n",
            "         4     -209496.9948          -2.7771\n",
            "         1     -238332.2631             +nan\n",
            "         2     -234244.3120       +4087.9510\n",
            "         3     -234111.5832        +132.7289\n",
            "         4     -234094.9041         +16.6791\n",
            "         5     -234092.7842          +2.1199\n",
            "         6     -234092.4281          +0.3561\n",
            "         7     -234092.3890          +0.0391\n",
            "         8     -234092.3885          +0.0005\n",
            "         1     -198722.6878             +nan\n",
            "         2     -195211.2014       +3511.4864\n",
            "         3     -195122.9881         +88.2132\n",
            "         4     -195111.6587         +11.3294\n",
            "         5     -195110.4125          +1.2462\n",
            "         6     -195110.2493          +0.1632\n",
            "         7     -195110.4118          -0.1626\n",
            "         1     -274088.1545             +nan\n",
            "         2     -271965.9859       +2122.1686\n",
            "         3     -271951.0079         +14.9780\n",
            "         4     -271950.9033          +0.1046\n",
            "         5     -271950.9078          -0.0045\n",
            "         1     -300730.3961             +nan\n",
            "         2     -298612.1713       +2118.2248\n",
            "         3     -298588.3068         +23.8645\n",
            "         4     -298587.6626          +0.6442\n",
            "         5     -298587.6819          -0.0193\n",
            "         1     -230758.2624             +nan\n",
            "         2     -226977.8777       +3780.3847\n",
            "         3     -226914.2517         +63.6260\n",
            "         4     -226918.0214          -3.7697\n"
          ]
        }
      ]
    },
    {
      "cell_type": "code",
      "source": [
        "np.concatenate(data[name], axis=1).T.shape"
      ],
      "metadata": {
        "colab": {
          "base_uri": "https://localhost:8080/"
        },
        "id": "5D3yZlh4vADR",
        "outputId": "1ae5c075-b6e7-4b10-b543-c0b32826eba0"
      },
      "execution_count": 161,
      "outputs": [
        {
          "output_type": "execute_result",
          "data": {
            "text/plain": [
              "(2590, 39)"
            ]
          },
          "metadata": {},
          "execution_count": 161
        }
      ]
    },
    {
      "cell_type": "markdown",
      "source": [
        "**Evaluation**"
      ],
      "metadata": {
        "id": "RszetDzDiQEv"
      }
    },
    {
      "cell_type": "code",
      "source": [
        "result = {}\n",
        "for name in class_names:\n",
        "    true_name = f\"test_{name}\"\n",
        "    true_predict = 0\n",
        "    for O in data[true_name]:\n",
        "        score = {name : model.score(O.T, [O.shape[1]]) for name, model in models.items()}\n",
        "        predict = max(score, key=score.get)\n",
        "        if predict == name:\n",
        "            true_predict += 1\n",
        "    result[true_name] = f\"Ratio: {true_predict}/{len(data[true_name])}\\nAcc: {100*true_predict/len(data[true_name])}\""
      ],
      "metadata": {
        "id": "5h1cZoBYiNK0"
      },
      "execution_count": 166,
      "outputs": []
    },
    {
      "cell_type": "code",
      "source": [
        "for k, v in result.items():\n",
        "    print(k,'\\n',v,'\\n')"
      ],
      "metadata": {
        "colab": {
          "base_uri": "https://localhost:8080/"
        },
        "id": "pE-i3UbelJf_",
        "outputId": "6ae14dd1-7ae1-4393-e17e-f3909b373f56"
      },
      "execution_count": 167,
      "outputs": [
        {
          "output_type": "stream",
          "name": "stdout",
          "text": [
            "test_len \n",
            " Ratio: 37/100\n",
            "Acc: 37.0 \n",
            "\n",
            "test_xuong \n",
            " Ratio: 75/100\n",
            "Acc: 75.0 \n",
            "\n",
            "test_trai \n",
            " Ratio: 29/100\n",
            "Acc: 29.0 \n",
            "\n",
            "test_phai \n",
            " Ratio: 89/100\n",
            "Acc: 89.0 \n",
            "\n",
            "test_A \n",
            " Ratio: 32/100\n",
            "Acc: 32.0 \n",
            "\n",
            "test_B \n",
            " Ratio: 22/100\n",
            "Acc: 22.0 \n",
            "\n",
            "test_ban \n",
            " Ratio: 21/100\n",
            "Acc: 21.0 \n",
            "\n"
          ]
        }
      ]
    }
  ],
  "metadata": {
    "colab": {
      "collapsed_sections": [],
      "name": "MFCCs_Recognition_Single_Word.ipynb",
      "provenance": []
    },
    "kernelspec": {
      "display_name": "Python 3",
      "name": "python3"
    },
    "language_info": {
      "name": "python"
    }
  },
  "nbformat": 4,
  "nbformat_minor": 0
}